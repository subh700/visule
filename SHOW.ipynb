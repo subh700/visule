{
 "cells": [
  {
   "cell_type": "code",
   "execution_count": null,
   "id": "a1f4d62d",
   "metadata": {},
   "outputs": [],
   "source": [
    "import pandas as pd \n",
    "import numpy as np\n"
   ]
  },
  {
   "cell_type": "code",
   "execution_count": null,
   "id": "70b504c6",
   "metadata": {},
   "outputs": [],
   "source": [
    "df2 = pd.read_csv('df2.csv')  # replace 'your_file.csv' with your actual file path\n",
    "print(df2)"
   ]
  },
  {
   "cell_type": "code",
   "execution_count": null,
   "id": "8d342c68",
   "metadata": {},
   "outputs": [],
   "source": [
    "print(\"Column names of df2:\")\n",
    "print(list(df2.columns))"
   ]
  },
  {
   "cell_type": "code",
   "execution_count": 13,
   "id": "50fef642",
   "metadata": {},
   "outputs": [],
   "source": [
    "# Create an interactive line plot with date index\n",
    "import plotly.express as px\n",
    "\n",
    "# Create the interactive plot\n",
    "fig = px.line(df2, x='Date', \n",
    "              y=['3we', 'XGBoost', 'Rndom_forest', 'Few_shot', 'Knn', 'Median', 'Mean', 'f_Fill', 'b_Fill', 'pm2.5'],\n",
    "              title='PM2.5 imputed vs Actual Values Over Time')\n",
    "\n",
    "# Update layout for better visualization\n",
    "fig.update_layout(\n",
    "    xaxis_title=\"Date\",\n",
    "    yaxis_title=\"PM2.5 Value\",\n",
    "    hovermode='x unified',\n",
    "    width=1200,\n",
    "    height=600\n",
    ")\n",
    "\n",
    "fig.show()"
   ]
  },
  {
   "cell_type": "code",
   "execution_count": null,
   "id": "4a157ba8",
   "metadata": {
    "vscode": {
     "languageId": "html"
    }
   },
   "outputs": [],
   "source": [
    "from IPython.display import HTML\n",
    "\n",
    "import plotly.io as pio\n",
    "\n",
    "# Create HTML string to store the content\n",
    "html_content = \"\"\"\n",
    "<html>\n",
    "<head>\n",
    "    <title>PM2.5 Analysis Dashboard</title>\n",
    "    <style>\n",
    "        body { font-family: Arial, sans-serif; margin: 20px; }\n",
    "        .plot-container { margin-bottom: 30px; }\n",
    "        h2 { color: #333; }\n",
    "    </style>\n",
    "</head>\n",
    "<body>\n",
    "    <h1>PM2.5 Analysis Dashboard</h1>\n",
    "\"\"\"\n",
    "\n",
    "# Add the Plotly interactive plot\n",
    "html_content += \"<div class='plot-container'>\"\n",
    "html_content += \"<h2>Interactive Time Series Plot</h2>\"\n",
    "html_content += pio.to_html(fig, full_html=False)\n",
    "html_content += \"</div>\"\n",
    "\n",
    "# Save current matplotlib figure to HTML\n",
    "plt.savefig('temp_plot.png')\n",
    "html_content += \"\"\"\n",
    "    <div class='plot-container'>\n",
    "        <h2>Static Time Series Plot</h2>\n",
    "        <img src='temp_plot.png' style='max-width:100%;'>\n",
    "    </div>\n",
    "\"\"\"\n",
    "\n",
    "html_content += \"\"\"\n",
    "    <div class='plot-container'>\n",
    "        <h2>Data Summary</h2>\n",
    "        <pre>\"\"\" + df2.describe().to_string() + \"\"\"</pre>\n",
    "    </div>\n",
    "</body>\n",
    "</html>\n",
    "\"\"\"\n",
    "\n",
    "# Display the HTML\n",
    "HTML(html_content)"
   ]
  },
  {
   "cell_type": "code",
   "execution_count": null,
   "id": "1e630864",
   "metadata": {},
   "outputs": [],
   "source": [
    "import matplotlib.pyplot as plt\n",
    "\n",
    "# Convert Date column to datetime\n",
    "df2['Date'] = pd.to_datetime(df2['Date'])\n",
    "\n",
    "# Create the plot\n",
    "plt.figure(figsize=(15, 8))\n",
    "plt.plot(df2['Date'], df2['pm2.5'], label='Actual PM2.5', alpha=0.7)\n",
    "plt.plot(df2['Date'], df2['XGBoost'], label='XGBoost', alpha=0.7)\n",
    "plt.plot(df2['Date'], df2['Rndom_forest'], label='Random Forest', alpha=0.7)\n",
    "plt.plot(df2['Date'], df2['Few_shot'], label='Few Shot', alpha=0.7)\n",
    "plt.plot(df2['Date'], df2['Knn'], label='KNN', alpha=0.7)\n",
    "\n",
    "plt.title('PM2.5 Predictions vs Actual Values Over Time')\n",
    "plt.xlabel('Date')\n",
    "plt.ylabel('PM2.5 Value')\n",
    "plt.legend()\n",
    "plt.grid(True)\n",
    "plt.xticks(rotation=45)\n",
    "plt.tight_layout()"
   ]
  },
  {
   "cell_type": "code",
   "execution_count": null,
   "id": "f90017c7",
   "metadata": {},
   "outputs": [],
   "source": [
    "# Save the dashboard to an HTML file\n",
    "with open('pm25_dashboard.html', 'w', encoding='utf-8') as f:\n",
    "    f.write(html_content)\n",
    "print(\"Dashboard has been saved to 'pm25_dashboard.html'\")"
   ]
  },
  {
   "cell_type": "code",
   "execution_count": null,
   "id": "acc15a79",
   "metadata": {},
   "outputs": [],
   "source": []
  }
 ],
 "metadata": {
  "kernelspec": {
   "display_name": "Python 3",
   "language": "python",
   "name": "python3"
  },
  "language_info": {
   "codemirror_mode": {
    "name": "ipython",
    "version": 3
   },
   "file_extension": ".py",
   "mimetype": "text/x-python",
   "name": "python",
   "nbconvert_exporter": "python",
   "pygments_lexer": "ipython3",
   "version": "3.12.1"
  }
 },
 "nbformat": 4,
 "nbformat_minor": 5
}
